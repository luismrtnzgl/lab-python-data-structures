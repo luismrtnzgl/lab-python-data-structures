{
 "cells": [
  {
   "cell_type": "code",
   "execution_count": 6,
   "metadata": {},
   "outputs": [
    {
     "name": "stdout",
     "output_type": "stream",
     "text": [
      "{'t-shirt': 5, 'mug': 6, 'hat': 7, 'book': 8, 'keychain': 9}\n"
     ]
    }
   ],
   "source": [
    "#Creo la lista de los productos\n",
    "products = [\"t-shirt\", \"mug\", \"hat\", \"book\", \"keychain\"]\n",
    "\n",
    "#Creo diccionario vacío del inventario\n",
    "inventory = {}\n",
    "\n",
    "#Pregunto al usuario disponibilidad de cada producto\n",
    "for producto in products:\n",
    "    cantidad = int(input(f\"Introduce cantidad de {producto}\"))\n",
    "    inventory[producto] = cantidad\n",
    "print(inventory)"
   ]
  },
  {
   "cell_type": "code",
   "execution_count": 12,
   "metadata": {},
   "outputs": [
    {
     "name": "stdout",
     "output_type": "stream",
     "text": [
      "El pedido de los clientes es: \n",
      "\n",
      "mug\n",
      "t-shirt\n",
      "hat\n"
     ]
    }
   ],
   "source": [
    "#Creo un set\n",
    "customer_orders= set()\n",
    "\n",
    "# Introducción de valores en el set. En la introducción de texto transformo la entrada en minúsculas (lower())\n",
    "for orden in range(3):\n",
    "    producto = input(f\"Introduce el producto {orden+1} que quieres:\").lower()\n",
    "    if producto in inventory:\n",
    "        customer_orders.add(producto)\n",
    "    else:\n",
    "        print(f\"{producto} no tenemos stock. Seleccionalo de esta lista {products}\")\n",
    "\n",
    "#Imprimo los valores\n",
    "print(\"El pedido de los clientes es: \\n\")\n",
    "for pedido in customer_orders: \n",
    "    print(pedido)"
   ]
  },
  {
   "cell_type": "code",
   "execution_count": 19,
   "metadata": {},
   "outputs": [
    {
     "name": "stdout",
     "output_type": "stream",
     "text": [
      "Order Statistics:\n",
      "Total Products Ordered: 3\n",
      "Percentage of Products Ordered: 60.0%\n"
     ]
    }
   ],
   "source": [
    "#Creo una tuple que va a almacenar ordenable pero inmutable.\n",
    "order_status = ()\n",
    "\n",
    "# Calculo el total de productos ordenados en el set `customer_orders`.\n",
    "total_productos = len(customer_orders)\n",
    "\n",
    "#Calculo el porcentaje de productos ordenados en comparación con el total disponible\n",
    "porcentaje = (total_productos / len(products)) * 100\n",
    "order_status = (total_productos, porcentaje)\n",
    "\n",
    "#Imprimo los resultados\n",
    "print(\"Order Statistics:\")\n",
    "print(f\"Total Products Ordered: {order_status[0]}\")\n",
    "print(f\"Percentage of Products Ordered: {order_status[1]}%\")"
   ]
  },
  {
   "cell_type": "code",
   "execution_count": 20,
   "metadata": {},
   "outputs": [
    {
     "name": "stdout",
     "output_type": "stream",
     "text": [
      "{'t-shirt': 4, 'mug': 5, 'hat': 6, 'book': 8, 'keychain': 9}\n"
     ]
    }
   ],
   "source": [
    "#Actualizo el inventario quitando 1 de cada producto del pedido\n",
    "for producto in customer_orders:\n",
    "    if inventory[producto] > 0:\n",
    "        inventory[producto] -= 1\n",
    "print(inventory)"
   ]
  },
  {
   "cell_type": "code",
   "execution_count": 24,
   "metadata": {},
   "outputs": [
    {
     "name": "stdout",
     "output_type": "stream",
     "text": [
      "Actualización de inventario:\n",
      "T-shirt: 4\n",
      "Mug: 5\n",
      "Hat: 6\n",
      "Book: 8\n",
      "Keychain: 9\n"
     ]
    }
   ],
   "source": [
    "# Imprimo en lineas separadas el inventario.\n",
    "# Bucle de producto y cantidad dentro de los items de inventario. items() devuelve clave valor del diccionario\n",
    "print(\"Actualización de inventario:\")\n",
    "for producto, cantidad in inventory.items():\n",
    "    print(f\"{producto.capitalize()}: {cantidad}\")"
   ]
  }
 ],
 "metadata": {
  "kernelspec": {
   "display_name": "Python 3",
   "language": "python",
   "name": "python3"
  },
  "language_info": {
   "codemirror_mode": {
    "name": "ipython",
    "version": 3
   },
   "file_extension": ".py",
   "mimetype": "text/x-python",
   "name": "python",
   "nbconvert_exporter": "python",
   "pygments_lexer": "ipython3",
   "version": "3.8.2"
  }
 },
 "nbformat": 4,
 "nbformat_minor": 2
}
